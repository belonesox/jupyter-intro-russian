{
 "cells": [
  {
   "cell_type": "markdown",
   "metadata": {},
   "source": [
    "# Функциональный Питон"
   ]
  },
  {
   "cell_type": "markdown",
   "metadata": {},
   "source": []
  },
  {
   "cell_type": "markdown",
   "metadata": {},
   "source": [
    "Python — потрясающий язык программирования, который хоть и не является рекордсменом по скорости, достаточно хорош практически в любом аспекте, \n",
    "и подходит для большинства приложений. А подлинная сильная сторона этого языка — намеренное отсутствие сложности.\n",
    "\n",
    "Python допускает также программирование в множестве разных стилей. Его вполне можно использовать для выполнения операторов в процедурном стиле, построчно. Но можно также\n",
    "и в качестве сложного объектно-ориентированного языка программирования, обладающего такими продвинутыми возможностями, как метаклассы и множественное наследование.\n",
    "\n",
    "При изучении языка Python, особенно для датасатанизма, на некоторых из таких возможностей, можно не обращать внимания — они, как правило, \n",
    "никогда не используются при написании Juрytеr-блокнотов.\n",
    "Вместо этого имеет смысл использовать альтернативный подход с упором на функции. Здесь мы познакомимся с аспектом Python, удобным для использования в Jupyter-блокнотах, что все в целом, можно рассматривать как новый Microsoft Excel, и чему вполне легко можно научить любого Excel-пользователя."
   ]
  },
  {
   "cell_type": "markdown",
   "metadata": {},
   "source": [
    "## Вывод результатов \n"
   ]
  },
  {
   "cell_type": "markdown",
   "metadata": {},
   "source": [
    "Вывод результатов в Python очень прост.\n",
    "Функция print получает входные данные (сколько угодно аргументов) и выводит их в консоль или выходную ячейку блокнота.\n"
   ]
  },
  {
   "cell_type": "code",
   "execution_count": 3,
   "metadata": {},
   "outputs": [
    {
     "name": "stdout",
     "output_type": "stream",
     "text": [
      "Hello world! Привет мир! 5 81\n"
     ]
    }
   ],
   "source": [
    "print(\"Hello world!\", \"Привет мир!\", 2+3, 3**4)"
   ]
  },
  {
   "cell_type": "markdown",
   "metadata": {},
   "source": [
    "## Создание и использование переменных"
   ]
  },
  {
   "cell_type": "markdown",
   "metadata": {},
   "source": [
    "Переменные создаются путем присваивания. "
   ]
  },
  {
   "cell_type": "code",
   "execution_count": 6,
   "metadata": {},
   "outputs": [
    {
     "name": "stdout",
     "output_type": "stream",
     "text": [
      "string  value\n"
     ]
    }
   ],
   "source": [
    "variable = \"string \" + \" value\"\n",
    "print(variable)"
   ]
  },
  {
   "cell_type": "markdown",
   "metadata": {},
   "source": [
    "## Множественные процедурные операторы"
   ]
  },
  {
   "cell_type": "code",
   "execution_count": 8,
   "metadata": {},
   "outputs": [
    {
     "name": "stdout",
     "output_type": "stream",
     "text": [
      "In Brazilian jiu-jitsu а common attack is a: kimura\n",
      "Another common attack is а: arm triangle\n"
     ]
    }
   ],
   "source": [
    "attack_one = \"kimura\"\n",
    "attack_two = \"arm triangle\"\n",
    "print(\"In Brazilian jiu-jitsu а common attack is a:\", attack_one)\n",
    "print(\"Another common attack is а:\", attack_two)"
   ]
  },
  {
   "cell_type": "markdown",
   "metadata": {},
   "source": [
    "## Сложение чисел\n"
   ]
  },
  {
   "cell_type": "markdown",
   "metadata": {},
   "source": [
    "Python можно использовать и в качестве калькулятора. Прекрасный способ привыкнуть к языку - начать использовать его вместо Microsoft Excel или\n",
    "приложения-калькулятора."
   ]
  },
  {
   "cell_type": "code",
   "execution_count": 10,
   "metadata": {},
   "outputs": [
    {
     "data": {
      "text/plain": [
       "2"
      ]
     },
     "execution_count": 10,
     "metadata": {},
     "output_type": "execute_result"
    }
   ],
   "source": [
    "1+1"
   ]
  },
  {
   "cell_type": "markdown",
   "metadata": {},
   "source": [
    "## Склеивание строк\n",
    "\n",
    "Можно складывать и строки:\n"
   ]
  },
  {
   "cell_type": "code",
   "execution_count": 11,
   "metadata": {},
   "outputs": [
    {
     "data": {
      "text/plain": [
       "'armbar'"
      ]
     },
     "execution_count": 11,
     "metadata": {},
     "output_type": "execute_result"
    }
   ],
   "source": [
    "\"arm\" + \"bar\""
   ]
  },
  {
   "cell_type": "markdown",
   "metadata": {},
   "source": [
    "## Сложные операторы\n",
    "\n",
    "Можно создавать и более сложные операторы \n",
    "данных вроде переменной ``belt``, — с использованием структур-списоков:"
   ]
  },
  {
   "cell_type": "code",
   "execution_count": 12,
   "metadata": {},
   "outputs": [
    {
     "name": "stdout",
     "output_type": "stream",
     "text": [
      "This is not the belt I want to end up with: white\n",
      "This is not the belt I want to end up with: Ыuе\n",
      "This is not the belt I want to end up with: purple\n",
      "This is not the belt I want to end up with: brown\n",
      "The belt I want to earn is: Ыасk\n"
     ]
    }
   ],
   "source": [
    "belts = [\"white\", \"Ыuе\", \"purple\", \"brown\", \"Ыасk\"]\n",
    "for belt in belts:\n",
    "    if \"Ыасk\" in belt:\n",
    "        print(\"The belt I want to earn is:\", belt)\n",
    "    else:\n",
    "        print(\"This is not the belt I want to end up with:\", belt)"
   ]
  },
  {
   "cell_type": "markdown",
   "metadata": {},
   "source": [
    "## Строки и форматирование строк\n",
    "\n",
    "Строки (strings) - последовательности символов. Они часто форматируются программно. Практически все программы на языке Python применяют\n",
    "строки для отправки сообщений пользователям. Однако важно хорошо представлять себе несколько базовых понятий.\n",
    "* Cтроки можно создавать с помощью одинарных, двойных и тройных/двойных кавычек.\n",
    "* Строки можно форматировать.\n",
    "* Cтроки могут находиться в нескольких кодировках, включая Unicode.\n",
    "* Существует множество методов работы со строками. В редакторе или командной оболочке IPython можно увидеть список этих методов, выделенных с помощью автозаполнения табуляцией.\n"
   ]
  },
  {
   "cell_type": "code",
   "execution_count": null,
   "metadata": {},
   "outputs": [],
   "source": []
  },
  {
   "cell_type": "code",
   "execution_count": 14,
   "metadata": {},
   "outputs": [
    {
     "data": {
      "text/plain": [
       "['__add__',\n",
       " '__class__',\n",
       " '__contains__',\n",
       " '__delattr__',\n",
       " '__dir__',\n",
       " '__doc__',\n",
       " '__eq__',\n",
       " '__format__',\n",
       " '__ge__',\n",
       " '__getattribute__',\n",
       " '__getitem__',\n",
       " '__getnewargs__',\n",
       " '__gt__',\n",
       " '__hash__',\n",
       " '__init__',\n",
       " '__init_subclass__',\n",
       " '__iter__',\n",
       " '__le__',\n",
       " '__len__',\n",
       " '__lt__',\n",
       " '__mod__',\n",
       " '__mul__',\n",
       " '__ne__',\n",
       " '__new__',\n",
       " '__reduce__',\n",
       " '__reduce_ex__',\n",
       " '__repr__',\n",
       " '__rmod__',\n",
       " '__rmul__',\n",
       " '__setattr__',\n",
       " '__sizeof__',\n",
       " '__str__',\n",
       " '__subclasshook__',\n",
       " 'capitalize',\n",
       " 'casefold',\n",
       " 'center',\n",
       " 'count',\n",
       " 'encode',\n",
       " 'endswith',\n",
       " 'expandtabs',\n",
       " 'find',\n",
       " 'format',\n",
       " 'format_map',\n",
       " 'index',\n",
       " 'isalnum',\n",
       " 'isalpha',\n",
       " 'isdecimal',\n",
       " 'isdigit',\n",
       " 'isidentifier',\n",
       " 'islower',\n",
       " 'isnumeric',\n",
       " 'isprintable',\n",
       " 'isspace',\n",
       " 'istitle',\n",
       " 'isupper',\n",
       " 'join',\n",
       " 'ljust',\n",
       " 'lower',\n",
       " 'lstrip',\n",
       " 'maketrans',\n",
       " 'partition',\n",
       " 'replace',\n",
       " 'rfind',\n",
       " 'rindex',\n",
       " 'rjust',\n",
       " 'rpartition',\n",
       " 'rsplit',\n",
       " 'rstrip',\n",
       " 'split',\n",
       " 'splitlines',\n",
       " 'startswith',\n",
       " 'strip',\n",
       " 'swapcase',\n",
       " 'title',\n",
       " 'translate',\n",
       " 'upper',\n",
       " 'zfill']"
      ]
     },
     "execution_count": 14,
     "metadata": {},
     "output_type": "execute_result"
    }
   ],
   "source": [
    "some_string = ''\n",
    "some_string."
   ]
  },
  {
   "cell_type": "markdown",
   "metadata": {},
   "source": [
    "### Простейший тип строки\n",
    "Простейший тип строки — переменная, которой присвоено значение в виде фразы в кавычках. Кавычки могут быть тройными, двойными или одинарными.\n"
   ]
  },
  {
   "cell_type": "code",
   "execution_count": 16,
   "metadata": {},
   "outputs": [],
   "source": [
    "basic_string = \"Brazilian jiu-jitsu\"\n",
    "string_multiline = '''Вот многострочная\n",
    "строка.\n",
    "'''\n",
    "string_multiline = \"\"\"Вот многострочная\n",
    "строка.\n",
    "\"\"\""
   ]
  },
  {
   "cell_type": "markdown",
   "metadata": {},
   "source": [
    "### Разбиение строк\n",
    "\n",
    "Строку можно превратить в список, разбив ее по пробелам или другим\n",
    "символам:"
   ]
  },
  {
   "cell_type": "code",
   "execution_count": 20,
   "metadata": {},
   "outputs": [
    {
     "data": {
      "text/plain": [
       "['Brazilian', 'jiu-jitsu']"
      ]
     },
     "execution_count": 20,
     "metadata": {},
     "output_type": "execute_result"
    }
   ],
   "source": [
    "#Разбиение по пробелам \n",
    "\n",
    "basic_string.split()"
   ]
  },
  {
   "cell_type": "code",
   "execution_count": 19,
   "metadata": {},
   "outputs": [
    {
     "data": {
      "text/plain": [
       "['Brazilian', 'jiu', 'jitsu']"
      ]
     },
     "execution_count": 19,
     "metadata": {},
     "output_type": "execute_result"
    }
   ],
   "source": [
    "#Разбиение по дефисам\n",
    "string_with_hyphen = \"Brazilian-jiu-jitsu\"\n",
    "string_with_hyphen.split(\"-\")"
   ]
  },
  {
   "cell_type": "markdown",
   "metadata": {},
   "source": [
    "### Все заглавные буквы\n",
    "В Python есть множество удобных встроенных функций для преобразования строк. Вот так, например, можно преобразовать все символы в строке в верхний регистр:"
   ]
  },
  {
   "cell_type": "code",
   "execution_count": 21,
   "metadata": {},
   "outputs": [
    {
     "data": {
      "text/plain": [
       "'BRAZILIAN JIU-JITSU'"
      ]
     },
     "execution_count": 21,
     "metadata": {},
     "output_type": "execute_result"
    }
   ],
   "source": [
    "basic_string.upper()\n"
   ]
  },
  {
   "cell_type": "markdown",
   "metadata": {},
   "source": [
    "### Срезы строк \n",
    "Строки можно разрезать на части, указывая на индексы символов начала и конца строки:\n",
    "    "
   ]
  },
  {
   "cell_type": "code",
   "execution_count": 25,
   "metadata": {},
   "outputs": [
    {
     "data": {
      "text/plain": [
       "'raz'"
      ]
     },
     "execution_count": 25,
     "metadata": {},
     "output_type": "execute_result"
    }
   ],
   "source": [
    "#Получить 2-4а символы строки\n",
    "basic_string[1:4]\n"
   ]
  },
  {
   "cell_type": "code",
   "execution_count": 26,
   "metadata": {},
   "outputs": [
    {
     "data": {
      "text/plain": [
       "'Br'"
      ]
     },
     "execution_count": 26,
     "metadata": {},
     "output_type": "execute_result"
    }
   ],
   "source": [
    "#Получить первые два символа строки\n",
    "basic_string[:2]"
   ]
  },
  {
   "cell_type": "code",
   "execution_count": 27,
   "metadata": {},
   "outputs": [
    {
     "data": {
      "text/plain": [
       "'tsu'"
      ]
     },
     "execution_count": 27,
     "metadata": {},
     "output_type": "execute_result"
    }
   ],
   "source": [
    "#Получить последние три символа строки\n",
    "basic_string[-3:]"
   ]
  },
  {
   "cell_type": "code",
   "execution_count": 24,
   "metadata": {},
   "outputs": [
    {
     "data": {
      "text/plain": [
       "19"
      ]
     },
     "execution_count": 24,
     "metadata": {},
     "output_type": "execute_result"
    }
   ],
   "source": [
    "#Получить длину строки\n",
    "len(basic_string)\n"
   ]
  },
  {
   "cell_type": "markdown",
   "metadata": {},
   "source": [
    "### Склеивание строк\n",
    "\n",
    "Строки можно склеивать путем конкатенации или присваивания строки переменной с последующим прибавлением к ней строк. "
   ]
  },
  {
   "cell_type": "code",
   "execution_count": 29,
   "metadata": {},
   "outputs": [
    {
     "data": {
      "text/plain": [
       "'Brazilian jiu-jitsu is my favorite Martial Art'"
      ]
     },
     "execution_count": 29,
     "metadata": {},
     "output_type": "execute_result"
    }
   ],
   "source": [
    "basic_string +\" is my favorite Martial Art\""
   ]
  },
  {
   "cell_type": "markdown",
   "metadata": {},
   "source": [
    "Это интуитивно понятно, но если нужна производительность, то лучше использовать f-строки."
   ]
  },
  {
   "cell_type": "markdown",
   "metadata": {},
   "source": [
    "### Сложное форматирование строк\n",
    "Один из лучших способов форматирования строк в современном Python 3 — использование f-строк:\n",
    "    "
   ]
  },
  {
   "cell_type": "code",
   "execution_count": 32,
   "metadata": {},
   "outputs": [
    {
     "data": {
      "text/plain": [
       "'I love practiciпg my favorite Martial Art, Brazilian jiu-jitsu'"
      ]
     },
     "execution_count": 32,
     "metadata": {},
     "output_type": "execute_result"
    }
   ],
   "source": [
    "f'I love practiciпg my favorite Martial Art, {basic_string}'"
   ]
  },
  {
   "cell_type": "markdown",
   "metadata": {},
   "source": [
    "Для обертывания строк можно использовать тройные кавычки. Иногда может понадобиться взять фрагмент текста и присвоить его переменной. Проще всего сделать это в Python с помощью заключения фразы в тройные кавычки:"
   ]
  },
  {
   "cell_type": "code",
   "execution_count": 34,
   "metadata": {},
   "outputs": [
    {
     "data": {
      "text/plain": [
       "'\\nThis phrase is multiple seпteпces loпg.\\nThe phrase сап Ье formatted like simpler seпteпces,\\nfor example, I сап still talk about my favorite\\nMartial Art Brazilian jiu-jitsu\\n'"
      ]
     },
     "execution_count": 34,
     "metadata": {},
     "output_type": "execute_result"
    }
   ],
   "source": [
    "f\"\"\"\n",
    "This phrase is multiple seпteпces loпg.\n",
    "The phrase сап Ье formatted like simpler seпteпces,\n",
    "for example, I сап still talk about my favorite\n",
    "Martial Art {basic_string}\n",
    "\"\"\""
   ]
  },
  {
   "cell_type": "markdown",
   "metadata": {},
   "source": [
    "Разрывы строк можно удалить с помощью метода ``replace``. Вышеприведенная длинная строка содержала символы разрывов строки\n",
    "символы \\п, которые можно удалить с помощью этого метода:\n"
   ]
  },
  {
   "cell_type": "code",
   "execution_count": 35,
   "metadata": {},
   "outputs": [
    {
     "data": {
      "text/plain": [
       "'This phrase is multiple seпteпces loпg.The phrase сап Ье formatted like simpler seпteпces,for example, I сап still talk about my favoriteMartial Art Brazilian jiu-jitsu'"
      ]
     },
     "execution_count": 35,
     "metadata": {},
     "output_type": "execute_result"
    }
   ],
   "source": [
    "f\"\"\"\n",
    "This phrase is multiple seпteпces loпg.\n",
    "The phrase сап Ье formatted like simpler seпteпces,\n",
    "for example, I сап still talk about my favorite\n",
    "Martial Art {basic_string}\n",
    "\"\"\".replace(\"\\n\", \"\")"
   ]
  },
  {
   "cell_type": "markdown",
   "metadata": {},
   "source": [
    "### Арифметика\n",
    "\n",
    "Гибкость в форматировании фраз на основе f-строк:"
   ]
  },
  {
   "cell_type": "code",
   "execution_count": 36,
   "metadata": {},
   "outputs": [
    {
     "name": "stdout",
     "output_type": "stream",
     "text": [
      "Two Steps Forward: Two Steps Forward: One Step Back = 1\n"
     ]
    }
   ],
   "source": [
    "steps = (1+1)-1\n",
    "print(f\"Two Steps Forward: Two Steps Forward: One Step Back = {steps}\")"
   ]
  },
  {
   "cell_type": "code",
   "execution_count": 37,
   "metadata": {},
   "outputs": [
    {
     "name": "stdout",
     "output_type": "stream",
     "text": [
      "I weight 200lbs, and 20.0lbs of that is fat\n"
     ]
    }
   ],
   "source": [
    "body_fat_percentage = 0.10\n",
    "weight = 200\n",
    "fat_total = body_fat_percentage * weight\n",
    "print(f\"I weight 200lbs, and {fat_total}lbs of that is fat\")"
   ]
  },
  {
   "cell_type": "code",
   "execution_count": 39,
   "metadata": {},
   "outputs": [
    {
     "data": {
      "text/plain": [
       "8.0"
      ]
     },
     "execution_count": 39,
     "metadata": {},
     "output_type": "execute_result"
    }
   ],
   "source": [
    "import math\n",
    "math.pow(2,3)"
   ]
  },
  {
   "cell_type": "code",
   "execution_count": 40,
   "metadata": {},
   "outputs": [
    {
     "data": {
      "text/plain": [
       "8"
      ]
     },
     "execution_count": 40,
     "metadata": {},
     "output_type": "execute_result"
    }
   ],
   "source": [
    "2**3"
   ]
  },
  {
   "cell_type": "markdown",
   "metadata": {},
   "source": [
    "### Целые и приближенные вещественные\n",
    "\n",
    "В Python есть множество форм чисел, но наиболее распространены:\n",
    "* целые числа;\n",
    "* цисла с плавающей запятой."
   ]
  },
  {
   "cell_type": "code",
   "execution_count": 42,
   "metadata": {},
   "outputs": [
    {
     "name": "stdout",
     "output_type": "stream",
     "text": [
      "100 is type [int]\n",
      "100.0 is type [float]\n"
     ]
    }
   ],
   "source": [
    "number = 100\n",
    "num_type = type(number).__name__\n",
    "print(f\"{number} is type [{num_type}]\")\n",
    "\n",
    "number = float(100)\n",
    "num_type = type(number).__name__\n",
    "print(f\"{number} is type [{num_type}]\")"
   ]
  },
  {
   "cell_type": "markdown",
   "metadata": {},
   "source": [
    "### Округление\n",
    "\n",
    "Десятичное число с большим количеством знаков можно округлить, например, до двух знаков после запятой:"
   ]
  },
  {
   "cell_type": "code",
   "execution_count": 43,
   "metadata": {},
   "outputs": [
    {
     "data": {
      "text/plain": [
       "1.91"
      ]
     },
     "execution_count": 43,
     "metadata": {},
     "output_type": "execute_result"
    }
   ],
   "source": [
    "too_many_decimals = 1.912345897\n",
    "round(too_many_decimals, 2)"
   ]
  },
  {
   "cell_type": "markdown",
   "metadata": {},
   "source": [
    "### Структуры данных\n",
    "В Python есть несколько часто используемых базовых структур данных:\n",
    "* списки;\n",
    "* словари.\n",
    "\n",
    "Словари и списки - основные «рабочие лошадки» языка Python, но в нем есть и другие структуры данных, например кортежи, счетчики и т. д., также\n",
    "заслуживающие изучения."
   ]
  },
  {
   "cell_type": "markdown",
   "metadata": {},
   "source": [
    "### Словари\n",
    "\n",
    "Словари, как и сам Python, отлично подходят для решения множества задач. \n",
    "В следующем примере в словарь помещается список атакующих приемов бразильского джиу-джитсу. Ключом является прием, а значением — половина тела, к которой он применяется:"
   ]
  },
  {
   "cell_type": "code",
   "execution_count": 52,
   "metadata": {},
   "outputs": [
    {
     "data": {
      "text/plain": [
       "{'armbar': 'upper_body',\n",
       " 'arm_triaпgle': 'upper_body',\n",
       " 'heel_hook': 'lower_body',\n",
       " 'kпee_bar': 'lower_body'}"
      ]
     },
     "execution_count": 52,
     "metadata": {},
     "output_type": "execute_result"
    }
   ],
   "source": [
    "submissions = {\"armbar\": \"upper_body\", \n",
    "               \"arm_triaпgle\": \"upper_body\", \n",
    "               \"heel_hook\": \"lower_body\", \n",
    "               \"kпee_bar\": \"lower_body\"}\n",
    "submissions"
   ]
  },
  {
   "cell_type": "markdown",
   "metadata": {},
   "source": [
    "Распространенный паттерн работы со словарями с помощью метода ``items`` - итерация по словарю.\n",
    "В следующем примере в консоль выводятся ключ и значение:"
   ]
  },
  {
   "cell_type": "code",
   "execution_count": 56,
   "metadata": {},
   "outputs": [
    {
     "name": "stdout",
     "output_type": "stream",
     "text": [
      "The armbar оп is ап attack the upper_body\n",
      "The arm_triaпgle оп is ап attack the upper_body\n",
      "The heel_hook оп is ап attack the lower_body\n",
      "The kпee_bar оп is ап attack the lower_body\n"
     ]
    }
   ],
   "source": [
    "for submission, body_part in submissions.items():\n",
    "    print(f\"The {submission} оп is ап attack the {body_part}\")\n"
   ]
  },
  {
   "cell_type": "markdown",
   "metadata": {},
   "source": [
    "Словари можно также использовать для фильтрации. В нижеприведенном примере выводятся только болевые приемы (submission attack) на верхнюю\n",
    "половину тела (upper body):"
   ]
  },
  {
   "cell_type": "code",
   "execution_count": 60,
   "metadata": {},
   "outputs": [
    {
     "name": "stdout",
     "output_type": "stream",
     "text": [
      "armbar\n",
      "arm_triaпgle\n"
     ]
    }
   ],
   "source": [
    "for submission, body_part in submissions.items():\n",
    "    if body_part == \"upper_body\":\n",
    "        print(submission)"
   ]
  },
  {
   "cell_type": "markdown",
   "metadata": {},
   "source": [
    "Можно также выбирать ключи и значения словарей:\n",
    "    "
   ]
  },
  {
   "cell_type": "code",
   "execution_count": 64,
   "metadata": {},
   "outputs": [
    {
     "name": "stdout",
     "output_type": "stream",
     "text": [
      "These are keys: dict_keys(['armbar', 'arm_triaпgle', 'heel_hook', 'kпee_bar'])\n",
      "These are values: dict_values(['upper_body', 'upper_body', 'lower_body', 'lower_body'])\n"
     ]
    }
   ],
   "source": [
    "print(f\"These are keys: {submissioпs.keys()}\")\n",
    "\n",
    "print(f\"These are values: {submissioпs.values()}\")"
   ]
  },
  {
   "cell_type": "markdown",
   "metadata": {},
   "source": [
    "### Списки\n",
    "Списки часто используются в языке Python.\n",
    "Они дают возможность реализации последовательных коллекций. Списки могут включать в качестве элементов словари, точно так же, как и словари могут включать списки."
   ]
  },
  {
   "cell_type": "code",
   "execution_count": 68,
   "metadata": {},
   "outputs": [
    {
     "name": "stdout",
     "output_type": "stream",
     "text": [
      "full-guard\n",
      "half-guard\n",
      "open-guard\n"
     ]
    }
   ],
   "source": [
    "list_of_bjj_positions = [ \"mount\", \"full-guard\", \"half-guard\", \"turtle\", \"side-control\", \"rear-mount\", \"knee-on-belly\", \"north-south\", \"open-guard\"]\n",
    "for position in list_of_bjj_positions:\n",
    "    if \"guard\" in position:\n",
    "        print(position)\n"
   ]
  },
  {
   "cell_type": "markdown",
   "metadata": {},
   "source": [
    "Можно выбирать элементы списков посредством срезов:\n"
   ]
  },
  {
   "cell_type": "code",
   "execution_count": 71,
   "metadata": {},
   "outputs": [
    {
     "name": "stdout",
     "output_type": "stream",
     "text": [
      "First position: ['mount']\n",
      "Last position: ['open-guard']\n",
      "First three positions: ['mount', 'full-guard', 'half-guard']\n"
     ]
    }
   ],
   "source": [
    "print(f'First position: {list_of_bjj_positions[:1]}')\n",
    "print(f'Last position: {list_of_bjj_positions[-1:]}')\n",
    "print(f'First three positions: {list_of_bjj_positions[0:3]}')"
   ]
  },
  {
   "cell_type": "markdown",
   "metadata": {},
   "source": [
    "## Функции\n",
    "Функции — стандартные блоки программирования при исследовании данных на языке Python, а равно и способ создания логичных, удобных в тестировании структур. На протяжении десятилетий велись споры о том, какой стиль программирования на языке Python лучше — функциональный или объектно-ориентированный. В этом разделе вы не найдете ответа на данный вопрос, но увидите, почему полезно знать основы работы с функциями в Python. \n",
    "\n",
    "### Написание функций\n",
    "Важнейший навык для программиста на языке Python - умение писать функции. Владение основными навыками работы с функциями означает возможность использования практически всего, что предлагает язык. \n",
    "\n",
    "### Простая функция\n",
    "Простейшие функции лишь возвращают значение:"
   ]
  },
  {
   "cell_type": "code",
   "execution_count": 74,
   "metadata": {},
   "outputs": [
    {
     "data": {
      "text/plain": [
       "'bjj'"
      ]
     },
     "execution_count": 74,
     "metadata": {},
     "output_type": "execute_result"
    }
   ],
   "source": [
    "def favorite_martial_art():\n",
    "    '''This function returns the name of my favorite martial art'''\n",
    "    return \"bjj\"\n",
    "\n",
    "favorite_martial_art()"
   ]
  },
  {
   "cell_type": "markdown",
   "metadata": {},
   "source": [
    "### Документирование функций\n",
    "Снабдить функцию документацией никогда не будет лишним. В блокнотах Jupyteг и IPython для просмотра ``docstгing`` достаточно обратиться к функции\n",
    "по имени с добавлением после объекта символа ``?``, как показано ниже, или спросить у нее внутренний атрибут ``__doc__``"
   ]
  },
  {
   "cell_type": "code",
   "execution_count": 79,
   "metadata": {},
   "outputs": [
    {
     "data": {
      "text/plain": [
       "'This function returns the name of my favorite martial art'"
      ]
     },
     "execution_count": 79,
     "metadata": {},
     "output_type": "execute_result"
    }
   ],
   "source": [
    "favorite_martial_art.__doc__\n"
   ]
  },
  {
   "cell_type": "code",
   "execution_count": 80,
   "metadata": {},
   "outputs": [
    {
     "data": {
      "text/plain": [
       "\u001b[0;31mSignature:\u001b[0m \u001b[0mfavorite_martial_art\u001b[0m\u001b[0;34m(\u001b[0m\u001b[0;34m)\u001b[0m\u001b[0;34m\u001b[0m\u001b[0m\n",
       "\u001b[0;31mDocstring:\u001b[0m This function returns the name of my favorite martial art\n",
       "\u001b[0;31mFile:\u001b[0m      ~/jupyter-intro/<ipython-input-74-7d04d6e9734c>\n",
       "\u001b[0;31mType:\u001b[0m      function\n"
      ]
     },
     "metadata": {},
     "output_type": "display_data"
    }
   ],
   "source": [
    "favorite_martial_art?"
   ]
  },
  {
   "cell_type": "markdown",
   "metadata": {},
   "source": [
    "### Аргументы функций: позиционные, именованные\n",
    "Наиболее полезны те функции, в которые можно передавать аргументы. В приведенной ниже функции обрабатываются новые значения для аргумента ``times``.\n",
    "Аргумент этой функции «позиционный», неименованный. Позиционные аргументы обрабатываются в порядке их создания:"
   ]
  },
  {
   "cell_type": "code",
   "execution_count": 82,
   "metadata": {},
   "outputs": [
    {
     "name": "stdout",
     "output_type": "stream",
     "text": [
      "I like to practice 2 times\n",
      "I like to practice 3 times\n"
     ]
    }
   ],
   "source": [
    "def practice(times):\n",
    "    print(f\"I like to practice {times} times\")\n",
    "\n",
    "practice(2)\n",
    "practice(3)\n"
   ]
  },
  {
   "cell_type": "markdown",
   "metadata": {},
   "source": [
    "Позиционные аргументы: обрабатываются по порядку. Позиционные аргументы функций обрабатываются в порядке их описания. Поэтому их можно легко создавать и легко же перепутать."
   ]
  },
  {
   "cell_type": "code",
   "execution_count": 86,
   "metadata": {},
   "outputs": [
    {
     "name": "stdout",
     "output_type": "stream",
     "text": [
      "I like to practice leg locks, 3 times а day, for 45 minutes\n"
     ]
    }
   ],
   "source": [
    "def practice(times, technique, duration):\n",
    "    print(f\"I like to practice {technique}, {times} times а day, for {duration} minutes\")\n",
    "    \n",
    "practice(3, \"leg locks\", 45)    "
   ]
  },
  {
   "cell_type": "markdown",
   "metadata": {},
   "source": [
    "**Именованные аргументы**: обрабатываются по ключу или значению, могут иметь значения по умолчанию. \n",
    "Одно из удобных свойств именованных аргументов — возможность задавать значения по умолчанию и указывать явным образом только те из них, которые нужно изменить."
   ]
  },
  {
   "cell_type": "code",
   "execution_count": 89,
   "metadata": {},
   "outputs": [
    {
     "name": "stdout",
     "output_type": "stream",
     "text": [
      "I like to practice kimura, 2 times а day, for 60 minutes\n",
      "I like to practice kimura, 2 times а day, for 90 minutes\n"
     ]
    }
   ],
   "source": [
    "def practice(times=2, technique=\"kimura\", duration=60):\n",
    "    print(f\"I like to practice {technique}, {times} times а day, for {duration} minutes\")\n",
    "    \n",
    "practice()\n",
    "practice(duration=90)\n"
   ]
  },
  {
   "cell_type": "markdown",
   "metadata": {},
   "source": [
    "Синтаксисы ``**kwargs`` и ``*args`` позволяют передавать в функции динамические аргументы. Однако применять эти виды синтаксиса следует осмотрительно, поскольку они затрудняют понимание кода. При использовании там, где это целесообразно, они предоставляют широкие возможности."
   ]
  },
  {
   "cell_type": "code",
   "execution_count": 90,
   "metadata": {},
   "outputs": [
    {
     "name": "stdout",
     "output_type": "stream",
     "text": [
      "This is an attack I would like to practice: kimura\n",
      "This is an attack I would like to practice: straight_ankle_lock\n",
      "This is an attack I would like to practice: arm_triangle\n"
     ]
    }
   ],
   "source": [
    "def attack_techniques(**kwargs):\n",
    "    \"\"\"Принимает произвольное число именованных аргументов\"\"\"\n",
    "    for name, attack in kwargs.items():\n",
    "        print(f\"This is an attack I would like to practice: {attack}\")\n",
    "        \n",
    "attack_techniques(arm_attack=\"kimura\", leg_attack=\"straight_ankle_lock\", neck_attack=\"arm_triangle\")        \n",
    "        "
   ]
  },
  {
   "cell_type": "markdown",
   "metadata": {},
   "source": [
    "**Передача функции словаря именованных арrументов.** Синтаксис ``**kwargs`` можно использовать для передачи всех аргументов сразу:"
   ]
  },
  {
   "cell_type": "code",
   "execution_count": 92,
   "metadata": {},
   "outputs": [
    {
     "name": "stdout",
     "output_type": "stream",
     "text": [
      "This is an attack I would like to practice: kimura\n",
      "This is an attack I would like to practice: straight_ankle_lock\n",
      "This is an attack I would like to practice: arm_triangle\n"
     ]
    }
   ],
   "source": [
    "attacks = {\"arm_attack\":\"kimura\", \"leg_attack\":\"straight_ankle_lock\", \"neck_attack\":\"arm_triangle\"}\n",
    "\n",
    "attack_techniques(**attacks)\n"
   ]
  },
  {
   "cell_type": "markdown",
   "metadata": {},
   "source": [
    "**Передача фуккций в качестве аргументов.** Объектно-ориентированное программирование — популярный способ программирования, но не единственный возможный в\n",
    "Python. В качестве вспомогательного стиля для организации конкурентности и исследования данных вполне подходит функциональное программирование.\n",
    "\n",
    "В следующем примере благодаря передаче функции в качестве аргумента появляется возможность использования ее внутри другой функции:"
   ]
  },
  {
   "cell_type": "code",
   "execution_count": 94,
   "metadata": {},
   "outputs": [],
   "source": [
    "def attack_location(technique):\n",
    "    \"\"\"Возвращает место применения приема\"\"\"\n",
    "    attacks = {\"kimura\": \"arm_attack\", \"straight_ankle_lock\":\"leg_attack\", \"arm_triangle\":\"neck_attack\"}\n",
    "    if technique in attacks:\n",
    "        return attacks[technique]\n",
    "    return \"Unknown\""
   ]
  },
  {
   "cell_type": "code",
   "execution_count": 98,
   "metadata": {},
   "outputs": [
    {
     "data": {
      "text/plain": [
       "'arm_attack'"
      ]
     },
     "execution_count": 98,
     "metadata": {},
     "output_type": "execute_result"
    }
   ],
   "source": [
    "attack_location(\"kimura\")"
   ]
  },
  {
   "cell_type": "code",
   "execution_count": 97,
   "metadata": {},
   "outputs": [
    {
     "data": {
      "text/plain": [
       "'Unknown'"
      ]
     },
     "execution_count": 97,
     "metadata": {},
     "output_type": "execute_result"
    }
   ],
   "source": [
    "attack_location(\"bear hug\")"
   ]
  },
  {
   "cell_type": "code",
   "execution_count": 99,
   "metadata": {},
   "outputs": [],
   "source": [
    "def multiple_attacks(attack_location_function):\n",
    "    \"\"\"Принимает на входе функцию распределения приемов\n",
    "        по категориям и возвращает место применения приема\"\"\"\n",
    "    new_attacks_list = [\"rear_naked_choke\", \"americaпa\", \"kimura\"]\n",
    "    for attack in new_attacks_list:\n",
    "        attack_location = attack_location_function(attack)\n",
    "        print(f\"The location of attack {attack} is {attack_location}\")"
   ]
  },
  {
   "cell_type": "code",
   "execution_count": 100,
   "metadata": {},
   "outputs": [
    {
     "name": "stdout",
     "output_type": "stream",
     "text": [
      "The location of attack rear_naked_choke is Unknown\n",
      "The location of attack americaпa is Unknown\n",
      "The location of attack kimura is arm_attack\n"
     ]
    }
   ],
   "source": [
    "multiple_attacks(attack_location)"
   ]
  },
  {
   "cell_type": "markdown",
   "metadata": {},
   "source": [
    "### Замыкания и каррирование функций\n",
    "\n",
    "Замыкания (*closures*) — функции, содержащие другие функции. В языке Python их часто применяют для отслеживания состояния. \n",
    "В приведенном ниже примере внешняя функция ``attack_counter`` отслеживает число атакующих приемов. \n",
    "Внутренняя функция ``attack_filter`` использует ключевое слово ``nonlocal`` языка Python 3 для изменения значения переменной во внешней функции.\n",
    "Такой подход носит название каррирования функций (*functional currying*) и позволяет создавать на основе общих функций специализированные.\n",
    "\n",
    "Как показано ниже, подобные функции могут лечь в основу простой компьютерной игры или подсчета статистики поединка в смешанных единоборствах:"
   ]
  },
  {
   "cell_type": "code",
   "execution_count": 120,
   "metadata": {},
   "outputs": [],
   "source": [
    "def attack_counter():\n",
    "    \"\"\"Подсчитывает количество атак на конкретную половину тела\"\"\"\n",
    "    \n",
    "    \n",
    "    lower_body_counter = 0\n",
    "    upper_body_counter = 0\n",
    "    \n",
    "    def attack_filter(attack):\n",
    "        nonlocal lower_body_counter\n",
    "        nonlocal upper_body_counter\n",
    "        \n",
    "        attacks = {\"kimura\": \"upper_body\", \n",
    "                   \"straight_ankle_lock\": \"lower_body\", \n",
    "                   \"arm_triangle\":\"upper_body\", \n",
    "                   \"keylock\": \"upper_body\", \n",
    "                   \"knee_bar\": \"lower_body\"}\n",
    "\n",
    "        if attack in attacks:\n",
    "            if attacks[attack] == \"upper_body\":\n",
    "                upper_body_counter +=1\n",
    "            if attacks[attack] == \"lower_body\":\n",
    "                lower_body_counter +=1\n",
    "            print(f\"Upper Body Attacks {upper_body_counter}, Lower Body Attacks {lower_body_counter}\")\n",
    "\n",
    "        return attack_filter    \n",
    "    "
   ]
  },
  {
   "cell_type": "code",
   "execution_count": 114,
   "metadata": {},
   "outputs": [],
   "source": [
    "fight = attack_counter()"
   ]
  },
  {
   "cell_type": "code",
   "execution_count": 115,
   "metadata": {},
   "outputs": [
    {
     "name": "stdout",
     "output_type": "stream",
     "text": [
      "Upper Body Attacks 1, Lower Body Attacks 0\n"
     ]
    }
   ],
   "source": [
    "fight(\"kimura\")\n"
   ]
  },
  {
   "cell_type": "code",
   "execution_count": 116,
   "metadata": {},
   "outputs": [
    {
     "name": "stdout",
     "output_type": "stream",
     "text": [
      "Upper Body Attacks 1, Lower Body Attacks 1\n"
     ]
    }
   ],
   "source": [
    "fight(\"knee_bar\")"
   ]
  },
  {
   "cell_type": "code",
   "execution_count": 117,
   "metadata": {},
   "outputs": [
    {
     "name": "stdout",
     "output_type": "stream",
     "text": [
      "Upper Body Attacks 2, Lower Body Attacks 1\n"
     ]
    }
   ],
   "source": [
    "fight(\"keylock\")"
   ]
  },
  {
   "cell_type": "markdown",
   "metadata": {},
   "source": [
    "**Функции, использующие ключевое слово yield** (*генераторы*). \n",
    "Отложенное вычисление — удобный стиль программирования, одним из примеров которого являются генераторы. \n",
    "Генераторы выдают значение в нужный момент времени.\n",
    "\n",
    "Нижеприведенный пример возвращает бесконечную случайную последовательность атакующих приемов. Отложенность здесь заключается в том, что, хотя количество значений бесконечно, возвращаются они только при вызове функции."
   ]
  },
  {
   "cell_type": "code",
   "execution_count": 121,
   "metadata": {},
   "outputs": [],
   "source": [
    "def lazy_return_random_attacks():\n",
    "    \"\"\"Каждый раз возвращает атакующие nриемы\"\"\"\n",
    "    import random\n",
    "    \n",
    "    attacks = {\"kimura\": \"upper_body\",\n",
    "                \"straight_ankle_lock\": \"lower_body\",\n",
    "                \"arm_triangle\": \"upper_body\",\n",
    "                \"keylock\": \"upper_body\",\n",
    "                \"knee_bar\": \"lower_body\"}\n",
    "    \n",
    "    while True:\n",
    "        random_attack = random.choices(list(attacks.keys()))\n",
    "        yield random_attack"
   ]
  },
  {
   "cell_type": "code",
   "execution_count": 122,
   "metadata": {},
   "outputs": [],
   "source": [
    "attack = lazy_return_random_attacks()"
   ]
  },
  {
   "cell_type": "code",
   "execution_count": 123,
   "metadata": {},
   "outputs": [
    {
     "data": {
      "text/plain": [
       "['knee_bar']"
      ]
     },
     "execution_count": 123,
     "metadata": {},
     "output_type": "execute_result"
    }
   ],
   "source": [
    "next(attack)"
   ]
  },
  {
   "cell_type": "code",
   "execution_count": 124,
   "metadata": {},
   "outputs": [
    {
     "name": "stdout",
     "output_type": "stream",
     "text": [
      "['straight_ankle_lock']\n",
      "['keylock']\n",
      "['knee_bar']\n",
      "['arm_triangle']\n",
      "['keylock']\n",
      "['knee_bar']\n",
      "['keylock']\n",
      "['straight_ankle_lock']\n",
      "['keylock']\n",
      "['straight_ankle_lock']\n"
     ]
    }
   ],
   "source": [
    "for i in range(10):\n",
    "    print(next(attack))"
   ]
  },
  {
   "cell_type": "markdown",
   "metadata": {},
   "source": [
    "**Декораторы: функции, служащие адаптерами для других функций**\n",
    "\n",
    "Еще одна полезная возможность Python — синтаксис декоратора, позволяющий обернуть одну функцию в другую. В нижеприведенном примере написан декоратор, добавляющий к каждому вызову функции паузу случайной длины. В сочетании с вышеописанным «бесконечным» генератором атакующих приемов он генерирует паузы случайной длины между вызовами функций."
   ]
  },
  {
   "cell_type": "code",
   "execution_count": 125,
   "metadata": {},
   "outputs": [],
   "source": [
    "def randomized_speed_attack_decorator(function):\n",
    "    \"\"\"Вносит элемент случайности в скорость атак\"\"\"\n",
    "    import time\n",
    "    import random\n",
    "    \n",
    "    def wrapper_func(*args, **kwargs):\n",
    "        sleep_time = random.randint(0, 3)\n",
    "        print(f\"Attacking after {sleep_time} seconds\")\n",
    "        time.sleep(sleep_time)\n",
    "        return function(*args, **kwargs)\n",
    "\n",
    "    return wrapper_func\n",
    "\n"
   ]
  },
  {
   "cell_type": "code",
   "execution_count": 127,
   "metadata": {},
   "outputs": [],
   "source": [
    "@randomized_speed_attack_decorator\n",
    "def lazy_return_random_attacks():\n",
    "    \"\"\"Каждый раз возвращает атакующие приемы\"\"\"\n",
    "    import random\n",
    "    attacks = {\n",
    "        \"kimura\": \"upper _body\",\n",
    "        \"straight_ankle_lock\": \"lower_body\",\n",
    "        \"arm_triangle\": \"upper_body\",\n",
    "        \"keylock\": \"upper_body\",\n",
    "        \"knee_bar\": \"lower_body\"}\n",
    "    \n",
    "    while True:\n",
    "        random_attack = random.choices(list(attacks.keys()))\n",
    "        yield random_attack"
   ]
  },
  {
   "cell_type": "code",
   "execution_count": 128,
   "metadata": {},
   "outputs": [
    {
     "name": "stdout",
     "output_type": "stream",
     "text": [
      "Attacking after 0 seconds\n",
      "['knee_bar']\n",
      "Attacking after 1 seconds\n",
      "['arm_triangle']\n",
      "Attacking after 0 seconds\n",
      "['straight_ankle_lock']\n",
      "Attacking after 3 seconds\n",
      "['knee_bar']\n",
      "Attacking after 3 seconds\n",
      "['knee_bar']\n",
      "Attacking after 2 seconds\n",
      "['arm_triangle']\n",
      "Attacking after 2 seconds\n",
      "['keylock']\n",
      "Attacking after 3 seconds\n",
      "['arm_triangle']\n",
      "Attacking after 0 seconds\n",
      "['kimura']\n",
      "Attacking after 3 seconds\n",
      "['knee_bar']\n"
     ]
    }
   ],
   "source": [
    "for _ in range(10):\n",
    "    print(next(lazy_return_random_attacks()))"
   ]
  },
  {
   "cell_type": "markdown",
   "metadata": {},
   "source": [
    "**Использование метода apply в библиотеке Pandas**. Последний мой урок — использование их для обработки объектов DataFrame библиотеки Pandas. Один из базовых принципов Pandas - применение операции apply к столбцу вместо организации итераций по всем значениям.\n",
    "\n",
    "Этот пример демонстрирует округление всех чисел до целых:"
   ]
  },
  {
   "cell_type": "code",
   "execution_count": 129,
   "metadata": {},
   "outputs": [],
   "source": [
    "import pandas as pd\n",
    "iris = pd.read_csv('https://raw.githubusercontent.com/mwaskom/seaborn-data/master/iris.csv')"
   ]
  },
  {
   "cell_type": "code",
   "execution_count": 130,
   "metadata": {},
   "outputs": [
    {
     "data": {
      "text/html": [
       "<div>\n",
       "<style scoped>\n",
       "    .dataframe tbody tr th:only-of-type {\n",
       "        vertical-align: middle;\n",
       "    }\n",
       "\n",
       "    .dataframe tbody tr th {\n",
       "        vertical-align: top;\n",
       "    }\n",
       "\n",
       "    .dataframe thead th {\n",
       "        text-align: right;\n",
       "    }\n",
       "</style>\n",
       "<table border=\"1\" class=\"dataframe\">\n",
       "  <thead>\n",
       "    <tr style=\"text-align: right;\">\n",
       "      <th></th>\n",
       "      <th>sepal_length</th>\n",
       "      <th>sepal_width</th>\n",
       "      <th>petal_length</th>\n",
       "      <th>petal_width</th>\n",
       "      <th>species</th>\n",
       "    </tr>\n",
       "  </thead>\n",
       "  <tbody>\n",
       "    <tr>\n",
       "      <th>0</th>\n",
       "      <td>5.1</td>\n",
       "      <td>3.5</td>\n",
       "      <td>1.4</td>\n",
       "      <td>0.2</td>\n",
       "      <td>setosa</td>\n",
       "    </tr>\n",
       "    <tr>\n",
       "      <th>1</th>\n",
       "      <td>4.9</td>\n",
       "      <td>3.0</td>\n",
       "      <td>1.4</td>\n",
       "      <td>0.2</td>\n",
       "      <td>setosa</td>\n",
       "    </tr>\n",
       "    <tr>\n",
       "      <th>2</th>\n",
       "      <td>4.7</td>\n",
       "      <td>3.2</td>\n",
       "      <td>1.3</td>\n",
       "      <td>0.2</td>\n",
       "      <td>setosa</td>\n",
       "    </tr>\n",
       "    <tr>\n",
       "      <th>3</th>\n",
       "      <td>4.6</td>\n",
       "      <td>3.1</td>\n",
       "      <td>1.5</td>\n",
       "      <td>0.2</td>\n",
       "      <td>setosa</td>\n",
       "    </tr>\n",
       "    <tr>\n",
       "      <th>4</th>\n",
       "      <td>5.0</td>\n",
       "      <td>3.6</td>\n",
       "      <td>1.4</td>\n",
       "      <td>0.2</td>\n",
       "      <td>setosa</td>\n",
       "    </tr>\n",
       "  </tbody>\n",
       "</table>\n",
       "</div>"
      ],
      "text/plain": [
       "   sepal_length  sepal_width  petal_length  petal_width species\n",
       "0           5.1          3.5           1.4          0.2  setosa\n",
       "1           4.9          3.0           1.4          0.2  setosa\n",
       "2           4.7          3.2           1.3          0.2  setosa\n",
       "3           4.6          3.1           1.5          0.2  setosa\n",
       "4           5.0          3.6           1.4          0.2  setosa"
      ]
     },
     "execution_count": 130,
     "metadata": {},
     "output_type": "execute_result"
    }
   ],
   "source": [
    "iris.head()"
   ]
  },
  {
   "cell_type": "code",
   "execution_count": 131,
   "metadata": {},
   "outputs": [
    {
     "data": {
      "text/html": [
       "<div>\n",
       "<style scoped>\n",
       "    .dataframe tbody tr th:only-of-type {\n",
       "        vertical-align: middle;\n",
       "    }\n",
       "\n",
       "    .dataframe tbody tr th {\n",
       "        vertical-align: top;\n",
       "    }\n",
       "\n",
       "    .dataframe thead th {\n",
       "        text-align: right;\n",
       "    }\n",
       "</style>\n",
       "<table border=\"1\" class=\"dataframe\">\n",
       "  <thead>\n",
       "    <tr style=\"text-align: right;\">\n",
       "      <th></th>\n",
       "      <th>sepal_length</th>\n",
       "      <th>sepal_width</th>\n",
       "      <th>petal_length</th>\n",
       "      <th>petal_width</th>\n",
       "      <th>species</th>\n",
       "      <th>rounded_sepal_length</th>\n",
       "    </tr>\n",
       "  </thead>\n",
       "  <tbody>\n",
       "    <tr>\n",
       "      <th>0</th>\n",
       "      <td>5.1</td>\n",
       "      <td>3.5</td>\n",
       "      <td>1.4</td>\n",
       "      <td>0.2</td>\n",
       "      <td>setosa</td>\n",
       "      <td>5.0</td>\n",
       "    </tr>\n",
       "    <tr>\n",
       "      <th>1</th>\n",
       "      <td>4.9</td>\n",
       "      <td>3.0</td>\n",
       "      <td>1.4</td>\n",
       "      <td>0.2</td>\n",
       "      <td>setosa</td>\n",
       "      <td>5.0</td>\n",
       "    </tr>\n",
       "    <tr>\n",
       "      <th>2</th>\n",
       "      <td>4.7</td>\n",
       "      <td>3.2</td>\n",
       "      <td>1.3</td>\n",
       "      <td>0.2</td>\n",
       "      <td>setosa</td>\n",
       "      <td>5.0</td>\n",
       "    </tr>\n",
       "    <tr>\n",
       "      <th>3</th>\n",
       "      <td>4.6</td>\n",
       "      <td>3.1</td>\n",
       "      <td>1.5</td>\n",
       "      <td>0.2</td>\n",
       "      <td>setosa</td>\n",
       "      <td>5.0</td>\n",
       "    </tr>\n",
       "    <tr>\n",
       "      <th>4</th>\n",
       "      <td>5.0</td>\n",
       "      <td>3.6</td>\n",
       "      <td>1.4</td>\n",
       "      <td>0.2</td>\n",
       "      <td>setosa</td>\n",
       "      <td>5.0</td>\n",
       "    </tr>\n",
       "  </tbody>\n",
       "</table>\n",
       "</div>"
      ],
      "text/plain": [
       "   sepal_length  sepal_width  petal_length  petal_width species  \\\n",
       "0           5.1          3.5           1.4          0.2  setosa   \n",
       "1           4.9          3.0           1.4          0.2  setosa   \n",
       "2           4.7          3.2           1.3          0.2  setosa   \n",
       "3           4.6          3.1           1.5          0.2  setosa   \n",
       "4           5.0          3.6           1.4          0.2  setosa   \n",
       "\n",
       "   rounded_sepal_length  \n",
       "0                   5.0  \n",
       "1                   5.0  \n",
       "2                   5.0  \n",
       "3                   5.0  \n",
       "4                   5.0  "
      ]
     },
     "execution_count": 131,
     "metadata": {},
     "output_type": "execute_result"
    }
   ],
   "source": [
    "iris['rounded_sepal_length'] = iris[['sepal_length']].apply(pd.Series.round) \n",
    "iris.head()"
   ]
  },
  {
   "cell_type": "markdown",
   "metadata": {},
   "source": [
    "Мы воспользовались встроенной функцией, но можно было написать и применить к столбцу и свою, пользовательскую. В приведенном далее примере\n",
    "числа умножаются на 100. Другой способ сделать это — организовать цикл, преобразовать данные, после чего записать их обратно. В Pandas гораздо проще и понятнее будет применить взамен этого пользовательскую функцию."
   ]
  },
  {
   "cell_type": "code",
   "execution_count": 135,
   "metadata": {},
   "outputs": [
    {
     "data": {
      "text/html": [
       "<div>\n",
       "<style scoped>\n",
       "    .dataframe tbody tr th:only-of-type {\n",
       "        vertical-align: middle;\n",
       "    }\n",
       "\n",
       "    .dataframe tbody tr th {\n",
       "        vertical-align: top;\n",
       "    }\n",
       "\n",
       "    .dataframe thead th {\n",
       "        text-align: right;\n",
       "    }\n",
       "</style>\n",
       "<table border=\"1\" class=\"dataframe\">\n",
       "  <thead>\n",
       "    <tr style=\"text-align: right;\">\n",
       "      <th></th>\n",
       "      <th>sepal_length</th>\n",
       "      <th>sepal_width</th>\n",
       "      <th>petal_length</th>\n",
       "      <th>petal_width</th>\n",
       "      <th>species</th>\n",
       "      <th>rounded_sepal_length</th>\n",
       "      <th>100x_sepal_length</th>\n",
       "    </tr>\n",
       "  </thead>\n",
       "  <tbody>\n",
       "    <tr>\n",
       "      <th>0</th>\n",
       "      <td>5.1</td>\n",
       "      <td>3.5</td>\n",
       "      <td>1.4</td>\n",
       "      <td>0.2</td>\n",
       "      <td>setosa</td>\n",
       "      <td>5.0</td>\n",
       "      <td>510.0</td>\n",
       "    </tr>\n",
       "    <tr>\n",
       "      <th>1</th>\n",
       "      <td>4.9</td>\n",
       "      <td>3.0</td>\n",
       "      <td>1.4</td>\n",
       "      <td>0.2</td>\n",
       "      <td>setosa</td>\n",
       "      <td>5.0</td>\n",
       "      <td>490.0</td>\n",
       "    </tr>\n",
       "    <tr>\n",
       "      <th>2</th>\n",
       "      <td>4.7</td>\n",
       "      <td>3.2</td>\n",
       "      <td>1.3</td>\n",
       "      <td>0.2</td>\n",
       "      <td>setosa</td>\n",
       "      <td>5.0</td>\n",
       "      <td>470.0</td>\n",
       "    </tr>\n",
       "    <tr>\n",
       "      <th>3</th>\n",
       "      <td>4.6</td>\n",
       "      <td>3.1</td>\n",
       "      <td>1.5</td>\n",
       "      <td>0.2</td>\n",
       "      <td>setosa</td>\n",
       "      <td>5.0</td>\n",
       "      <td>460.0</td>\n",
       "    </tr>\n",
       "    <tr>\n",
       "      <th>4</th>\n",
       "      <td>5.0</td>\n",
       "      <td>3.6</td>\n",
       "      <td>1.4</td>\n",
       "      <td>0.2</td>\n",
       "      <td>setosa</td>\n",
       "      <td>5.0</td>\n",
       "      <td>500.0</td>\n",
       "    </tr>\n",
       "  </tbody>\n",
       "</table>\n",
       "</div>"
      ],
      "text/plain": [
       "   sepal_length  sepal_width  petal_length  petal_width species  \\\n",
       "0           5.1          3.5           1.4          0.2  setosa   \n",
       "1           4.9          3.0           1.4          0.2  setosa   \n",
       "2           4.7          3.2           1.3          0.2  setosa   \n",
       "3           4.6          3.1           1.5          0.2  setosa   \n",
       "4           5.0          3.6           1.4          0.2  setosa   \n",
       "\n",
       "   rounded_sepal_length  100x_sepal_length  \n",
       "0                   5.0              510.0  \n",
       "1                   5.0              490.0  \n",
       "2                   5.0              470.0  \n",
       "3                   5.0              460.0  \n",
       "4                   5.0              500.0  "
      ]
     },
     "execution_count": 135,
     "metadata": {},
     "output_type": "execute_result"
    }
   ],
   "source": [
    "def multiply_by_100(x):\n",
    "    \"\"\"Умножает на 100\"\"\"\n",
    "    return x*100\n",
    "\n",
    "iris['100x_sepal_length'] = iris[['sepal_length']].apply(multiply_by_100)\n",
    "iris.head()"
   ]
  },
  {
   "cell_type": "markdown",
   "metadata": {},
   "source": [
    "## Использование управляющих конструкций\n",
    "\n",
    "Кратко опишем основные управляющие конструкции языка.\n",
    "В обычном ``Python`` основным компонентом управляющих конструкций является цикл ``for``. \n",
    "Стоит отметить, однако, что циклы ``for`` редко используются с библиотекой Pandas и то, что отлично работает в Python,\n",
    "плохо вписывается в парадигму Pandas.\n",
    "\n",
    "Некоторые примеры:\n",
    "* циклы \n",
    "    * ``for``\n",
    "    * ``while``\n",
    "* операторы ``if``/``else``\n",
    "* ``try``/``except``;\n",
    "* выражения-генераторы;\n",
    "* списковое включение;\n",
    "* сопоставление с шаблоном.\n",
    "\n",
    "Всем программам нужно как-то управлять последовательностью выполнения. В этом разделе описаны некоторые из методов такого управления."
   ]
  },
  {
   "cell_type": "markdown",
   "metadata": {},
   "source": [
    "### Циклы ``for``\n",
    "Одна из важнейших управляющих конструкций языка Python.\n",
    "Часто используемый паттерн — применение функции ``range`` для генерации диапазона значений с последующим проходом по ним в цикле:"
   ]
  },
  {
   "cell_type": "code",
   "execution_count": 138,
   "metadata": {},
   "outputs": [
    {
     "name": "stdout",
     "output_type": "stream",
     "text": [
      "[0, 1, 2]\n"
     ]
    }
   ],
   "source": [
    "res = range(3)\n",
    "print(list(res))"
   ]
  },
  {
   "cell_type": "code",
   "execution_count": 140,
   "metadata": {},
   "outputs": [
    {
     "name": "stdout",
     "output_type": "stream",
     "text": [
      "0\n",
      "1\n",
      "2\n"
     ]
    }
   ],
   "source": [
    "for i in range(3):\n",
    "    print(i)"
   ]
  },
  {
   "cell_type": "markdown",
   "metadata": {},
   "source": [
    "**Цикл ``for`` по cписку**. \n",
    "Еще один распространенный паттерн — проход в цикле по списку:\n",
    "    "
   ]
  },
  {
   "cell_type": "code",
   "execution_count": 141,
   "metadata": {},
   "outputs": [
    {
     "name": "stdout",
     "output_type": "stream",
     "text": [
      "Sambo has influenced modern mixed martial arts\n",
      "Muay Thai has influenced modern mixed martial arts\n",
      "BJJ has influenced modern mixed martial arts\n"
     ]
    }
   ],
   "source": [
    "martial_arts = [\"Sambo\", \"Muay Thai\", \"BJJ\"]\n",
    "for martial_art in martial_arts:\n",
    "    print(f\"{martial_art} has influenced modern mixed martial arts\")"
   ]
  },
  {
   "cell_type": "markdown",
   "metadata": {},
   "source": [
    "### Циклы while\n",
    "Их часто используются в качестве способа выполнения цикла вплоть до момента, когда выполнится некое условие. В частности, их применяют\n",
    "для создания бесконечных циклов. В следующем примере цикл ``while`` используется, чтобы отфильтровать один из двух типов атакующих приемов,\n",
    "возвращаемых функцией:\n"
   ]
  },
  {
   "cell_type": "code",
   "execution_count": 143,
   "metadata": {},
   "outputs": [],
   "source": [
    "def attacks():\n",
    "    list_of_attacks = [\"lower_body\", \"lower_body\", \"upper_body\"]\n",
    "    print(f\"There are а total of {len(list_of_attacks)} attacks coming!\")\n",
    "    for attack in list_of_attacks:\n",
    "        yield attack"
   ]
  },
  {
   "cell_type": "code",
   "execution_count": 144,
   "metadata": {},
   "outputs": [
    {
     "name": "stdout",
     "output_type": "stream",
     "text": [
      "There are а total of 3 attacks coming!\n",
      "crossing legs to prevent attack #1\n",
      "crossing legs to prevent attack #2\n",
      "This is not а lower body attack, I will cross my arms for #3\n"
     ]
    }
   ],
   "source": [
    "attack = attacks()\n",
    "count = 0\n",
    "\n",
    "while next(attack) == \"lower_body\":\n",
    "    count +=1\n",
    "    print(f\"crossing legs to prevent attack #{count}\")\n",
    "else:\n",
    "    count +=1\n",
    "    print(f\"This is not а lower body attack, I will cross my arms for #{count}\")"
   ]
  },
  {
   "cell_type": "markdown",
   "metadata": {},
   "source": [
    "### Операторы ``if``/``else``\n",
    "Ипользование операторов ``if``/``else`` - распространенный способ ветвления логики программы. В следующем примере для выбора одной из веток\n",
    "применяется ``if``/``elif``. Если ни одна из веток не подходит, выполняется последний оператор ``else``:"
   ]
  },
  {
   "cell_type": "code",
   "execution_count": 148,
   "metadata": {},
   "outputs": [
    {
     "name": "stdout",
     "output_type": "stream",
     "text": [
      "Try an armbar attack\n"
     ]
    }
   ],
   "source": [
    "def recommeпded_attack(positioп):\n",
    "    \"\"\"Рекомендует атакующий прием в зависимости от позы противника\"\"\"\n",
    "    if positioп == \"full_guard\":\n",
    "        print(f\"Try an armbar attack\")\n",
    "    elif position == \"half_guard\":\n",
    "        print(f\"Try ап elif positioп kimura attack\")\n",
    "    elif position == \"full_mount\":\n",
    "        print(f\"Try аn arm triangle\")\n",
    "    else:\n",
    "        print(f\"You're оп your own, there is no suggestion for an attack\")\n",
    "\n",
    "recommeпded_attack(\"full_guard\")        "
   ]
  },
  {
   "cell_type": "code",
   "execution_count": 149,
   "metadata": {},
   "outputs": [
    {
     "name": "stdout",
     "output_type": "stream",
     "text": [
      "You're оп your own, there is no suggestion for an attack\n"
     ]
    }
   ],
   "source": [
    "recommeпded_attack(\"z_guard\")"
   ]
  },
  {
   "cell_type": "markdown",
   "metadata": {},
   "source": [
    "### Выражения-генераторы\n",
    "Выражения-генераторы расширяют идею ключевого слова ``yield`` за счет отложенных вычислений последовательностей. Преимущество выражений-генераторов состоит в том, что ничего не вычисляется и не помещается в оперативную память до момента фактического вычисления. \n",
    "Именно поэтому в нижеприведенном примере можно оперировать генерируемой бесконечной последовательностью случайно выбранных атак.\n",
    "\n",
    "В этом конвейере генераторов атака в нижнем регистре, например, ``arm_triangle`` преобразуется в ``ARM_TRIANGLE``, а затем удаляется символ подчеркивания: ``ARM TRIANGLE``"
   ]
  },
  {
   "cell_type": "code",
   "execution_count": 181,
   "metadata": {},
   "outputs": [],
   "source": [
    "def lazy_returп_random_attacks():\n",
    "    \"\"\"Каждый import раз возвращает атакующие приемы\"\"\"\n",
    "    import random\n",
    "    \n",
    "    attacks = { \"kimura\": \"upper_body\", \n",
    "                \"straight_ankle_lock\": \"lower_body\",\n",
    "                \"arm_triangle\": \"upper_body\",\n",
    "                \"keylock\": \"upper_body\",\n",
    "                \"knee_bar\": \"lower_body\"}\n",
    "    while True:\n",
    "        random_attack = random.choices(list(attacks.keys()))\n",
    "        yield random_attack\n",
    "\n",
    "#Переводит все атаки в верхний регистр\n",
    "upper_case_attacks = (attack.pop().upper() for attack in lazy_returп_random_attacks())    \n",
    "\n",
    "    "
   ]
  },
  {
   "cell_type": "code",
   "execution_count": 182,
   "metadata": {},
   "outputs": [
    {
     "data": {
      "text/plain": [
       "'ARM_TRIANGLE'"
      ]
     },
     "execution_count": 182,
     "metadata": {},
     "output_type": "execute_result"
    }
   ],
   "source": [
    "next(upper_case_attacks)\n"
   ]
  },
  {
   "cell_type": "code",
   "execution_count": 183,
   "metadata": {},
   "outputs": [],
   "source": [
    "##Конвейер генераторов: одно выражение связывается в цепочку со следующим\n",
    "\n",
    "#Переводит все атаки в верхний регистр\n",
    "upper_case_attacks = (attack.pop().upper() for attack in lazy_returп_raпdom_attacks())\n",
    "\n",
    "#Удаляет символ подчеркивания\n",
    "remove_uпderscore = (attack.split(\"_\") for attack in upper_case_attacks)\n",
    "\n",
    "#Создает новую фразу \n",
    "new_attack_phrase =(\" \".join(phrase) for phrase in remove_uпderscore)"
   ]
  },
  {
   "cell_type": "code",
   "execution_count": 184,
   "metadata": {},
   "outputs": [
    {
     "data": {
      "text/plain": [
       "'STRAIGHT ANKLE LOCK'"
      ]
     },
     "execution_count": 184,
     "metadata": {},
     "output_type": "execute_result"
    }
   ],
   "source": [
    "next(new_attack_phrase)\n"
   ]
  },
  {
   "cell_type": "code",
   "execution_count": 185,
   "metadata": {},
   "outputs": [
    {
     "name": "stdout",
     "output_type": "stream",
     "text": [
      "KNEE BAR\n",
      "KIMURA\n",
      "STRAIGHT ANKLE LOCK\n",
      "KNEE BAR\n",
      "ARM TRIANGLE\n",
      "KNEE BAR\n",
      "STRAIGHT ANKLE LOCK\n",
      "ARM TRIANGLE\n",
      "KEYLOCK\n",
      "STRAIGHT ANKLE LOCK\n"
     ]
    }
   ],
   "source": [
    "for number in range(10):\n",
    "    print(next(new_attack_phrase))"
   ]
  },
  {
   "cell_type": "markdown",
   "metadata": {},
   "source": [
    "## Списковое включение\n",
    "Списковое включение синтаксически напоминает выражения-генераторы, но, в отличие от них, вычисляется в памяти. Кроме того, оно реализовано\n",
    "в виде оптимизированного кода на языке С, часто значительно превышающего по производительности обычный цикл ``for``:"
   ]
  },
  {
   "cell_type": "code",
   "execution_count": 186,
   "metadata": {},
   "outputs": [],
   "source": [
    "martial_arts = [ \"Sambo\", \"Muay Thai\", \"BJJ\"]\n",
    "new_phrases = [f\"Mixed Martial Arts is influenced Ьу {martial_art}\" for martial_art in martial_arts]"
   ]
  },
  {
   "cell_type": "code",
   "execution_count": 187,
   "metadata": {},
   "outputs": [
    {
     "name": "stdout",
     "output_type": "stream",
     "text": [
      "['Mixed Martial Arts is influenced Ьу Sambo', 'Mixed Martial Arts is influenced Ьу Muay Thai', 'Mixed Martial Arts is influenced Ьу BJJ']\n"
     ]
    }
   ],
   "source": [
    "print(new_phrases)"
   ]
  },
  {
   "cell_type": "markdown",
   "metadata": {},
   "source": [
    "# Промежуточные вопросы\n",
    "После обсуждения всех этих базовых вещей важно разобраться не просто в том, как написать код, а в том, как написать код, удобный для сопровождения. \n",
    "Один из способов —  создать библиотеку; другой — использовать уже готовый код путем установки сторонней библиотеки.\n",
    "\n",
    "Вообще говоря, основная идея — минимизировать сложность путем разбиения."
   ]
  },
  {
   "cell_type": "markdown",
   "metadata": {},
   "source": [
    "### Написание библиотеки на языке Python\n",
    "\n",
    "Достаточно скоро после начала создания вашего проекта вам понадобится писать библиотеки. Основное, что нужно знать: в репозитории есть каталог\n",
    "``funclib``, внутри которого находится файл ``__init__.py``.\n",
    "\n",
    "Для создания библиотеки необходимо поместить в этот каталог модуль с какой-либо функцией внутри него. \n",
    "Создаем файл:\n",
    "``\n",
    "  touch funcliЬ/funcmod.py\n",
    "``\n",
    "\n",
    "Помещаем в этот файл функцию (лучше вначале сразу указать кодировку, как показано ниже):\n",
    "\n",
    "``\n",
    "    # -*- coding: utf-8 -*-\n",
    "    \"\"\"Простой модуль\"\"\"\n",
    "    \n",
    "    \n",
    "    def list_of_belts_iп_bjj():\n",
    "        \"\"\"Возвращает список поясов бразильского джиу-джитсу\"\"\"\n",
    "        belts = [\"white\", \"blue\", \"purple\", \"brown\", \"black\"]\n",
    "        return belts\n",
    "\n",
    "``"
   ]
  },
  {
   "cell_type": "markdown",
   "metadata": {},
   "source": [
    "### Импорт библиотеки \n",
    "\n",
    "В Jupyter, если библиотека находится в каталоге на уровень выше, можно добавить для импорта его в системный путь посредством команды     ``sys.path.аррепd``.\n",
    "\n",
    "После этого можно импортировать модуль с помощью пространства имен ранее созданного каталога/файла/функции:\n",
    "\n",
    "~~~~\n",
    "  import  sys;sys.path.append(\"..\")\n",
    "  from funclib import funcmod\n",
    "~~~~ \n"
   ]
  },
  {
   "cell_type": "markdown",
   "metadata": {},
   "source": [
    "## Установка других библиотек с помощью команды pip install\n",
    "\n",
    "Установить другие библиотеки можно с помощью команды ``pip install``.\n",
    "\n",
    "Отмечу, что система управления пакетами ``conda`` может служить альтернативой и заменой pip.\n",
    "Если вы используете conda, то сможете использовать и pip, поскольку среда conda является заменой virtualenv, но также может и напрямую устанавливать пакеты. \n",
    "\n",
    "Для установки пакета pandas выполните следующую команду:\n",
    "\n",
    "``pip install pandas``\n"
   ]
  },
  {
   "cell_type": "markdown",
   "metadata": {},
   "source": [
    "В качестве альтернативного варианта пакеты можно установить с помощью\n",
    "файла со списком пакетов (и их версий) requiremeпts.txt:\n",
    "\n",
    "``pip iпstall -r requiremeпts.txt``"
   ]
  },
  {
   "cell_type": "markdown",
   "metadata": {},
   "source": [
    "Стоит отметить важный нюанс: создать в блокноте Jupyter  гигантскую паутину процедурного кода очень легко. А проще всего избежать этого, создавая\n",
    "библиотеки с последующим их тестированием и импортированием."
   ]
  },
  {
   "cell_type": "markdown",
   "metadata": {},
   "source": [
    "### Классы\n",
    "В блокнотах Juрytеr можно итеративно использовать классы и взаимодействовать с ними. Простейший тип клacca представляет собой просто наименование, как показано ниже:\n",
    "    \n"
   ]
  },
  {
   "cell_type": "code",
   "execution_count": 190,
   "metadata": {},
   "outputs": [],
   "source": [
    "class Competitor: pass\n"
   ]
  },
  {
   "cell_type": "markdown",
   "metadata": {},
   "source": [
    "Экземпляры этого класса могут представлять собой различные объекты:"
   ]
  },
  {
   "cell_type": "code",
   "execution_count": 191,
   "metadata": {},
   "outputs": [],
   "source": [
    "conor = Competitor()\n",
    "conor.name = \"Conor McGregor\"\n",
    "conor.age = 29\n",
    "conor.weight = 155"
   ]
  },
  {
   "cell_type": "code",
   "execution_count": 192,
   "metadata": {},
   "outputs": [],
   "source": [
    "nate = Competitor()\n",
    "nate.name = \"Nate Diaz\"\n",
    "nate.age = 30\n",
    "nate.weight = 170"
   ]
  },
  {
   "cell_type": "code",
   "execution_count": 193,
   "metadata": {},
   "outputs": [],
   "source": [
    "def print_competitor_age(object):\n",
    "    \"\"\"Выводит статистику no возрасту\n",
    "    спортсменов\"\"\"\n",
    "    print(f\"{object.name} is {object.age} years old\")"
   ]
  },
  {
   "cell_type": "code",
   "execution_count": 194,
   "metadata": {},
   "outputs": [
    {
     "name": "stdout",
     "output_type": "stream",
     "text": [
      "Nate Diaz is 30 years old\n"
     ]
    }
   ],
   "source": [
    "print_competitor_age(nate)"
   ]
  },
  {
   "cell_type": "code",
   "execution_count": 195,
   "metadata": {},
   "outputs": [
    {
     "name": "stdout",
     "output_type": "stream",
     "text": [
      "Conor McGregor is 29 years old\n"
     ]
    }
   ],
   "source": [
    "print_competitor_age(conor)"
   ]
  },
  {
   "cell_type": "markdown",
   "metadata": {},
   "source": [
    "### Различия классов и функций \n",
    "Ключевые различия классов и функций:\n",
    "* функции гораздо легче обсуждать;\n",
    "* состояние функций (обычно) существует лишь внутри функции, а состояние класса может сохраняться и за ее пределами;\n",
    "* классы предлагают более высокий уровень абстракции за счет повышения сложности."
   ]
  },
  {
   "cell_type": "code",
   "execution_count": null,
   "metadata": {},
   "outputs": [],
   "source": []
  }
 ],
 "metadata": {
  "kernelspec": {
   "display_name": "Python 3",
   "language": "python",
   "name": "python3"
  },
  "language_info": {
   "codemirror_mode": {
    "name": "ipython",
    "version": 3
   },
   "file_extension": ".py",
   "mimetype": "text/x-python",
   "name": "python",
   "nbconvert_exporter": "python",
   "pygments_lexer": "ipython3",
   "version": "3.6.5"
  },
  "nbsphinx": {
   "execute": "never"
  }
 },
 "nbformat": 4,
 "nbformat_minor": 2
}
