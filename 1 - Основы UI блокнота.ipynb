{
 "cells": [
  {
   "cell_type": "markdown",
   "metadata": {},
   "source": [
    "# Notebook — Основы"
   ]
  },
  {
   "cell_type": "markdown",
   "metadata": {},
   "source": [
    "## Приборная панель"
   ]
  },
  {
   "cell_type": "markdown",
   "metadata": {},
   "source": [
    "Когда вы запускаете веб-приложение блокнотов, ваш броузер открывает ссылку на приборную панель блокнотов. Конкретный интерфейс этой приборной панели может меняться от версии к версии, зависит от того, классический ли это Jupyter, или Jupyter Lab — новая версия интерфейса, которая вскоре станет стандартом. Зависит также от того, локальный ли это веб-сервер, или Jupyter Hub — вебсервер-хаб для «энтерпрайзного датасатанизма», но в любом случае, есть некие общие элементы.\n",
    "\n",
    "* Дальше рассказать про \n",
    "  * список файлов. Интерфейс с хлебными крошками. Вообще сделать все через видео? Тут все проще продемонстрировать.\n",
    "  * как создать новый файл (с выбором ядра).\n",
    "  * Как загружать файлы в текущую директорию. Драг энд дроп.\n",
    "  * Статус ноутбука — запущенность, зеленая иконка.\n",
    "  * Блокнот можно переименовывать удалять шатдаунить.\n",
    "\n"
   ]
  },
  {
   "cell_type": "markdown",
   "metadata": {},
   "source": [
    "\n"
   ]
  },
  {
   "cell_type": "markdown",
   "metadata": {},
   "source": [
    "## Обзор UI блокнота"
   ]
  },
  {
   "cell_type": "markdown",
   "metadata": {},
   "source": [
    "UI самого блокнота\n",
    "\n",
    "* Меню \n",
    "* тулбар — разобраться, куда пропало.\n",
    "* Ячейки\n",
    "Хелп. — «Help:User Interface Tour» — где это? Есть в стандартном классическом интерфейсе, нет в лабе."
   ]
  },
  {
   "cell_type": "markdown",
   "metadata": {},
   "source": [
    "## Редактор — режимы"
   ]
  },
  {
   "cell_type": "markdown",
   "metadata": {},
   "source": [
    "Режимы:\n",
    "* Редактирования\n",
    "* Команд\n",
    "\n",
    "* Шутки про вим.\n"
   ]
  },
  {
   "cell_type": "markdown",
   "metadata": {},
   "source": [
    "### Режим редактирования"
   ]
  },
  {
   "cell_type": "markdown",
   "metadata": {},
   "source": [
    "* Синяя рамка вокруг. \n",
    "* Мигающий курсор\n",
    "\n",
    "* Выход \n",
    "  * Клик мыши внутри\n",
    "  * Enter\n",
    "  \n",
    "* Выход \n",
    "  * Клик мыши снаружи\n",
    "  * SHIFT-Enter или ESC\n",
    "  \n"
   ]
  },
  {
   "cell_type": "markdown",
   "metadata": {},
   "source": [
    "### Командный режим."
   ]
  },
  {
   "cell_type": "markdown",
   "metadata": {},
   "source": [
    "* Серые рамки\n",
    "* Нумерованный ввод с отступами\n",
    "* Глобальное редактирование блокнота.\n",
    "  * Оптимальность — шорткаты.\n",
    "  * Карта шорткатов??? Только основные.\n"
   ]
  },
  {
   "cell_type": "markdown",
   "metadata": {},
   "source": [
    "## Мышиная навигация"
   ]
  },
  {
   "cell_type": "markdown",
   "metadata": {},
   "source": [
    "Мышь, тулбары."
   ]
  },
  {
   "cell_type": "markdown",
   "metadata": {},
   "source": [
    "Мышиная навигация — ячейки выделяются кликом, вход в редактирование. Или выход в командный режим.\n",
    "\n"
   ]
  },
  {
   "cell_type": "markdown",
   "metadata": {},
   "source": [
    "**Действия над ячейками выполняются над текущими ячейками**. \n",
    "\n"
   ]
  },
  {
   "cell_type": "markdown",
   "metadata": {},
   "source": [
    "## Keyboard Navigation"
   ]
  },
  {
   "cell_type": "markdown",
   "metadata": {},
   "source": [
    "Эффективность благодаря модальному интерфейсу.\n",
    "\n",
    "* `Help`->`Keyboard Shortcuts` "
   ]
  },
  {
   "cell_type": "markdown",
   "metadata": {},
   "source": [
    "Основы:\n",
    "\n",
    "1. Basic navigation: `enter`, `shift-enter`, `up/k`, `down/j`\n",
    "2. Saving the notebook: `s`\n",
    "2. Change Cell types: `y`, `m`, `1-6`, `t`\n",
    "3. Cell creation: `a`, `b`\n",
    "4. Cell editing: `x`, `c`, `v`, `d`, `z`\n",
    "5. Kernel operations: `i`, `0` (press twice)"
   ]
  },
  {
   "cell_type": "code",
   "execution_count": null,
   "metadata": {},
   "outputs": [],
   "source": []
  }
 ],
 "metadata": {
  "kernelspec": {
   "display_name": "Python 3",
   "language": "python",
   "name": "python3"
  },
  "language_info": {
   "codemirror_mode": {
    "name": "ipython",
    "version": 3
   },
   "file_extension": ".py",
   "mimetype": "text/x-python",
   "name": "python",
   "nbconvert_exporter": "python",
   "pygments_lexer": "ipython3",
   "version": "3.5.2"
  }
 },
 "nbformat": 4,
 "nbformat_minor": 1
}
