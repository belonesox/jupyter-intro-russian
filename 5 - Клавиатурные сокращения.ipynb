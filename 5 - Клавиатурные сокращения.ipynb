{
 "cells": [
  {
   "cell_type": "markdown",
   "metadata": {},
   "source": [
    "# Клавиатурные сокращения и их настройка"
   ]
  },
  {
   "cell_type": "markdown",
   "metadata": {},
   "source": [
    "Стандартный клавиатурные сочетания для работы с блокнотами можно увидеть:\n",
    "* «Help → Keyboard Shortcuts» → если у вас классический Jupyter Notebook\n",
    "* Вот как-то так, если у вас JupyterLab:\n",
    "<img src=\"images/keyboard-shortcuts-lab.gif\" />\n",
    "* И скорее всего у нас будет как-то так, когда я прорвусь с этой темой:\n",
    "https://user-images.githubusercontent.com/45380/43494634-d233f218-9501-11e8-90de-0f7c817c3357.gif\n",
    "\n",
    "\n",
    "Также можно настраивать shortcutы командного режима:\n",
    "* «Help → Edit keyboard Shortcuts» → если у вас классический Jupyter Notebook\n",
    "* Вот как-то так, если у вас JupyterLab:\n",
    "<img src=\"images/keyboard-shortcuts-lab.gif\" />\n",
    "\n",
    "Все это будет запомнено в вашем личном конфигурационном файле. Кстати, на одно действие можно приаттачить и несколько клавиатурных сочетаний."
   ]
  },
  {
   "cell_type": "code",
   "execution_count": null,
   "metadata": {},
   "outputs": [],
   "source": []
  }
 ],
 "metadata": {
  "kernelspec": {
   "display_name": "Python 3",
   "language": "python",
   "name": "python3"
  },
  "language_info": {
   "codemirror_mode": {
    "name": "ipython",
    "version": 3
   },
   "file_extension": ".py",
   "mimetype": "text/x-python",
   "name": "python",
   "nbconvert_exporter": "python",
   "pygments_lexer": "ipython3",
   "version": "3.6.5"
  },
  "nbsphinx": {
   "execute": "never"
  }
 },
 "nbformat": 4,
 "nbformat_minor": 2
}
