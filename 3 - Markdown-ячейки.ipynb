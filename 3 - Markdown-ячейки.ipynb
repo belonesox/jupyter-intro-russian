{
 "cells": [
  {
   "cell_type": "markdown",
   "metadata": {},
   "source": [
    "# Markdown-ячейки"
   ]
  },
  {
   "cell_type": "markdown",
   "metadata": {},
   "source": [
    "Jupyter Notebooks содержат текст в Markdown-ячейках.  Чтобы сменить тип любой ячейки на « Markdown», можно использовать меню `Cell`, тулбар, или клавиатуру — клавишу `m`.  \n",
    "\n",
    "*Markdown* это популярный язык разметки, надстройка HTML, позволяющая и полностью использовать HTML, но при этом оформлять наиболее востребованное форматирование с помощью так называемой плоской разметки — интуитивно понятной и читаемой даже в виде исходного кода.\n",
    "\n",
    "Вот его [полная спецификация Markdown](https://daringfireball.net/projects/markdown/), а дальше мы рассмотрим его основы. Смотрите на ячейки в режиме редактирования, чтобы увидеть, как выглядит исходный код Markdown-разметки.\n"
   ]
  },
  {
   "cell_type": "markdown",
   "metadata": {},
   "source": [
    "## Основы Markdown"
   ]
  },
  {
   "cell_type": "markdown",
   "metadata": {},
   "source": [
    "Итак, текст можно оформить *курсивом* или **жирным** шрифтом."
   ]
  },
  {
   "cell_type": "markdown",
   "metadata": {},
   "source": [
    "Списки, плоские и вложенные, нумерованные или с буллетами:\n",
    "\n",
    "* Раз\n",
    "    - Подсписок\n",
    "        - Это\n",
    "  - Подсписок\n",
    "        - То\n",
    "        - Что-то еще\n",
    "* Два\n",
    "  - Подсписок\n",
    "* Три\n",
    "  - Подсписок\n",
    "\n",
    "Еще список:\n",
    "\n",
    "1. Вот мы идем\n",
    "    1. Подсписок\n",
    "    2. Подсписок\n",
    "2. Куда идем\n",
    "3. Ну вот"
   ]
  },
  {
   "cell_type": "markdown",
   "metadata": {},
   "source": [
    "Разделительные горизонтальные линейки:\n",
    "\n",
    "----\n"
   ]
  },
  {
   "cell_type": "markdown",
   "metadata": {},
   "source": [
    "Блочная цитата. Хороший повод процитировать Дзен Питона:\n",
    "\n",
    "> Beautiful is better than ugly.\n",
    "> Explicit is better than implicit.\n",
    "> Simple is better than complex.\n",
    "> Complex is better than complicated.\n",
    "> Flat is better than nested.\n",
    "> Sparse is better than dense.\n",
    "> Readability counts.\n",
    "> Special cases aren't special enough to break the rules.\n",
    "> Although practicality beats purity.\n",
    "> Errors should never pass silently.\n",
    "> Unless explicitly silenced.\n",
    "> In the face of ambiguity, refuse the temptation to guess.\n",
    "> There should be one-- and preferably only one --obvious way to do it.\n",
    "> Although that way may not be obvious at first unless you're Dutch.\n",
    "> Now is better than never.\n",
    "> Although never is often better than *right* now.\n",
    "> If the implementation is hard to explain, it's a bad idea.\n",
    "> If the implementation is easy to explain, it may be a good idea.\n",
    "> Namespaces are one honking great idea -- let's do more of those!"
   ]
  },
  {
   "cell_type": "markdown",
   "metadata": {},
   "source": [
    "Гиперссылки:\n",
    "\n",
    "[Jupyter's website](http://jupyter.org)"
   ]
  },
  {
   "cell_type": "markdown",
   "metadata": {},
   "source": [
    "## Заголовки"
   ]
  },
  {
   "cell_type": "markdown",
   "metadata": {},
   "source": [
    "Заголовки — строки начинающиеся с одной или нескольких (соотвественно уровню заголовка) решеток `#` за которыми следует пробел и собственно, название заголовка: \n",
    "\n",
    "```\n",
    "# Heading 1\n",
    "# Heading 2\n",
    "## Heading 2.1\n",
    "## Heading 2.2\n",
    "```"
   ]
  },
  {
   "cell_type": "markdown",
   "metadata": {},
   "source": [
    "## Встроенный код"
   ]
  },
  {
   "cell_type": "markdown",
   "metadata": {},
   "source": [
    "Можно встраивать код для иллюстрации, без выполнения. На Python:\n",
    "\n",
    "    def f(x):\n",
    "        \"\"\"a docstring\"\"\"\n",
    "        return x**2\n",
    "\n",
    "или других языках:\n",
    "\n",
    "    if (i=0; i<n; i++) {\n",
    "      printf(\"hello %d\\n\", i);\n",
    "      x += 4;\n",
    "    }"
   ]
  },
  {
   "cell_type": "markdown",
   "metadata": {},
   "source": [
    "## LaTeX-формулы"
   ]
  },
  {
   "cell_type": "markdown",
   "metadata": {},
   "source": [
    "Благодаря системе *MathJax*, можно включать математические формулы. Как внутристрочно →\n",
    "$e^{i\\pi} + 1 = 0$ ← так и отдельным абзацем:\n",
    "\n",
    "$$e^x=\\sum_{i=0}^\\infty \\frac{1}{i!}x^i$$\n",
    "\n",
    "Внутристрочные формулы оформляются матемаматической LaTeX-разметкой, заключенной в `$`:\n",
    "\n",
    "```\n",
    "$e^{i\\pi} + 1 = 0$\n",
    "```\n",
    "\n",
    "Формулы отдельном абзаце окружаются `$$`:\n",
    "\n",
    "```latex\n",
    "$$e^x=\\sum_{i=0}^\\infty \\frac{1}{i!}x^i$$\n",
    "```"
   ]
  },
  {
   "cell_type": "markdown",
   "metadata": {},
   "source": [
    "## GitHub-расширения markdown"
   ]
  },
  {
   "cell_type": "markdown",
   "metadata": {},
   "source": [
    "В Блокнотах поддерживается также github-расширения Markdownа. Например, можно использовать вот такие, три-бек-кавыченные блоки, для расцветки блоков кода:\n",
    "\n",
    "    ```python\n",
    "    print \"Hello World\"\n",
    "    ```\n",
    "\n",
    "    ```javascript\n",
    "    console.log(\"Hello World\")\n",
    "    ```\n",
    "\n",
    "Что дает:\n",
    "\n",
    "```python\n",
    "print \"Hello World\"\n",
    "```\n",
    "\n",
    "```javascript\n",
    "console.log(\"Hello World\")\n",
    "```\n",
    "\n",
    "Можно использовать и таблицы типа таких:\n",
    "\n",
    "    | This | is   |\n",
    "    |------|------|\n",
    "    |   a  | table| \n",
    "\n",
    "превращающиеся в HTML-таблицу:\n",
    "\n",
    "| This | is   |\n",
    "|------|------|\n",
    "|   a  | table| \n"
   ]
  },
  {
   "cell_type": "markdown",
   "metadata": {},
   "source": [
    "## Общий HTML"
   ]
  },
  {
   "cell_type": "markdown",
   "metadata": {},
   "source": [
    "Так как Markdown — надмножество HTML, можно использовать всякое HTML-ное, например, HTML-таблицы:\n",
    "\n",
    "<table>\n",
    "<tr>\n",
    "<th>Header 1</th>\n",
    "<th>Header 2</th>\n",
    "</tr>\n",
    "<tr>\n",
    "<td>row 1, cell 1</td>\n",
    "<td>row 1, cell 2</td>\n",
    "</tr>\n",
    "<tr>\n",
    "<td>row 2, cell 1</td>\n",
    "<td>row 2, cell 2</td>\n",
    "</tr>\n",
    "</table>"
   ]
  },
  {
   "cell_type": "markdown",
   "metadata": {},
   "source": [
    "## Локальные файлы"
   ]
  },
  {
   "cell_type": "markdown",
   "metadata": {},
   "source": [
    "Если у вас с на той же файловой системе, где блокнот, лежат файлы, то на них можно ссылаться напрямую в ячейках блокнота:\n",
    "\n",
    "    [subdirectory/]<filename>\n",
    "\n",
    "Например, в если папке ``images`` у нас лежит логотип Python-а:\n",
    "\n",
    "    <img src=\"images/python_logo.svg\" />\n",
    "\n",
    "<img src=\"images/python_logo.svg\" />\n",
    "\n",
    "или видео внутри HTML5-видео тега:\n",
    "\n",
    "    <video controls src=\"images/animation.m4v\" />\n",
    "\n",
    "<video controls src=\"images/animation.m4v\" />\n",
    "\n",
    "These do not embed the data into the notebook file, and require that the files exist when you are viewing the notebook."
   ]
  },
  {
   "cell_type": "markdown",
   "metadata": {},
   "source": [
    "### Вопросы безопасности при использовании локальных файлов\n"
   ]
  },
  {
   "cell_type": "markdown",
   "metadata": {},
   "source": [
    "Заметим, что с этой функциональностью Jupyter-сервер блокнотов работает как обычный файл-сервер, для всех файлов в подкаталогах (для jupyterhub корневой каталог блокнотов задается для пользователя)."
   ]
  },
  {
   "cell_type": "code",
   "execution_count": null,
   "metadata": {},
   "outputs": [],
   "source": []
  }
 ],
 "metadata": {
  "anaconda-cloud": {},
  "kernelspec": {
   "display_name": "Python 3",
   "language": "python",
   "name": "python3"
  },
  "language_info": {
   "codemirror_mode": {
    "name": "ipython",
    "version": 3
   },
   "file_extension": ".py",
   "mimetype": "text/x-python",
   "name": "python",
   "nbconvert_exporter": "python",
   "pygments_lexer": "ipython3",
   "version": "3.5.2"
  }
 },
 "nbformat": 4,
 "nbformat_minor": 1
}
